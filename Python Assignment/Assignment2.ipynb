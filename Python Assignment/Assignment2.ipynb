{
 "cells": [
  {
   "cell_type": "code",
   "execution_count": 1,
   "metadata": {},
   "outputs": [],
   "source": [
    "import pandas as pd\n",
    "\n",
    "# Load the dataset\n",
    "dataset_path = r\"C:\\Users\\NN\\Desktop\\MLOPS\\train.csv\"\n",
    "df = pd.read_csv(dataset_path)"
   ]
  },
  {
   "cell_type": "code",
   "execution_count": 2,
   "metadata": {},
   "outputs": [],
   "source": [
    "from sklearn.linear_model import LinearRegression\n",
    "from sklearn.model_selection import train_test_split\n",
    "from sklearn.preprocessing import StandardScaler\n",
    "\n",
    "class HousePricePredictor:\n",
    "    def __init__(self, dataset_path: str):\n",
    "        self.dataset = pd.read_csv(dataset_path)\n",
    "        self.model = None\n",
    "        self.scaler = None\n",
    "        self._prepare_data()\n",
    "\n",
    "    def _prepare_data(self):\n",
    "        # Select some relevant features for simplicity\n",
    "        features = ['OverallQual', 'GrLivArea', 'GarageCars', 'GarageArea', 'TotalBsmtSF']\n",
    "        target = 'SalePrice'\n",
    "\n",
    "        # Filter the dataset to keep only relevant columns\n",
    "        self.X = self.dataset[features]\n",
    "        self.y = self.dataset[target]\n",
    "\n",
    "        # Handle missing values by filling with median (simplified approach)\n",
    "        self.X.fillna(self.X.median(), inplace=True)\n",
    "\n",
    "        # Split the data into training and testing sets\n",
    "        X_train, X_test, y_train, y_test = train_test_split(self.X, self.y, test_size=0.2, random_state=42)\n",
    "\n",
    "        # Scale the features\n",
    "        self.scaler = StandardScaler()\n",
    "        X_train_scaled = self.scaler.fit_transform(X_train)\n",
    "        \n",
    "        # Initialize and train the linear regression model\n",
    "        self.model = LinearRegression()\n",
    "        self.model.fit(X_train_scaled, y_train)\n",
    "\n",
    "    def predict(self, features: dict):\n",
    "        # Convert the features dictionary to a DataFrame\n",
    "        input_data = pd.DataFrame([features])\n",
    "\n",
    "        # Fill missing values\n",
    "        input_data.fillna(self.X.median(), inplace=True)\n",
    "\n",
    "        # Scale the input data\n",
    "        input_data_scaled = self.scaler.transform(input_data)\n",
    "\n",
    "        # Predict the house price\n",
    "        return self.model.predict(input_data_scaled)[0]\n"
   ]
  },
  {
   "cell_type": "code",
   "execution_count": 3,
   "metadata": {},
   "outputs": [],
   "source": [
    "from fastapi import FastAPI\n",
    "from pydantic import BaseModel\n",
    "\n",
    "# Define the FastAPI app\n",
    "app = FastAPI()\n",
    "\n",
    "# Define the input data model using Pydantic\n",
    "class HouseFeatures(BaseModel):\n",
    "    OverallQual: int\n",
    "    GrLivArea: float\n",
    "    GarageCars: int\n",
    "    GarageArea: float\n",
    "    TotalBsmtSF: float\n",
    "\n",
    "# Mock predictor for demonstration\n",
    "class HousePricePredictor:\n",
    "    def predict(self, features: dict):\n",
    "        return 100000 + 50000 * features[\"OverallQual\"] + 30 * features[\"GrLivArea\"]\n",
    "\n",
    "# Instantiate the predictor\n",
    "predictor = HousePricePredictor()\n",
    "\n",
    "# Define a POST endpoint for predictions\n",
    "@app.post(\"/predict\")\n",
    "def predict_price(features: HouseFeatures):\n",
    "    prediction = predictor.predict(features.dict())\n",
    "    return {\"predicted_price\": prediction}\n"
   ]
  },
  {
   "cell_type": "code",
   "execution_count": 4,
   "metadata": {},
   "outputs": [
    {
     "name": "stderr",
     "output_type": "stream",
     "text": [
      "INFO:     Started server process [2160]\n",
      "INFO:     Waiting for application startup.\n",
      "INFO:     Application startup complete.\n",
      "INFO:     Uvicorn running on http://127.0.0.1:8001 (Press CTRL+C to quit)\n"
     ]
    },
    {
     "name": "stdout",
     "output_type": "stream",
     "text": [
      "INFO:     127.0.0.1:51367 - \"GET / HTTP/1.1\" 404 Not Found\n",
      "INFO:     127.0.0.1:51367 - \"GET /favicon.ico HTTP/1.1\" 404 Not Found\n",
      "INFO:     127.0.0.1:51373 - \"GET / HTTP/1.1\" 404 Not Found\n",
      "INFO:     127.0.0.1:51380 - \"GET / HTTP/1.1\" 404 Not Found\n",
      "INFO:     127.0.0.1:51383 - \"GET /docs HTTP/1.1\" 200 OK\n",
      "INFO:     127.0.0.1:51383 - \"GET /openapi.json HTTP/1.1\" 200 OK\n",
      "INFO:     127.0.0.1:51399 - \"POST /predict HTTP/1.1\" 200 OK\n"
     ]
    },
    {
     "name": "stderr",
     "output_type": "stream",
     "text": [
      "INFO:     Shutting down\n",
      "INFO:     Waiting for application shutdown.\n",
      "INFO:     Application shutdown complete.\n",
      "INFO:     Finished server process [2160]\n"
     ]
    }
   ],
   "source": [
    "import nest_asyncio\n",
    "import uvicorn\n",
    "\n",
    "# Apply nest_asyncio to allow uvicorn to run in the notebook\n",
    "nest_asyncio.apply()\n",
    "\n",
    "# Start the FastAPI server\n",
    "uvicorn.run(app, host=\"127.0.0.1\", port=8001)\n",
    "\n"
   ]
  },
  {
   "cell_type": "code",
   "execution_count": null,
   "metadata": {},
   "outputs": [],
   "source": []
  }
 ],
 "metadata": {
  "kernelspec": {
   "display_name": "Python 3",
   "language": "python",
   "name": "python3"
  },
  "language_info": {
   "codemirror_mode": {
    "name": "ipython",
    "version": 3
   },
   "file_extension": ".py",
   "mimetype": "text/x-python",
   "name": "python",
   "nbconvert_exporter": "python",
   "pygments_lexer": "ipython3",
   "version": "3.11.3"
  }
 },
 "nbformat": 4,
 "nbformat_minor": 2
}
